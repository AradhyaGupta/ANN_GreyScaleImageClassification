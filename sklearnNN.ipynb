{
 "cells": [
  {
   "cell_type": "code",
   "execution_count": 1,
   "metadata": {
    "collapsed": true
   },
   "outputs": [],
   "source": [
    "from sklearn.neural_network import MLPClassifier\n",
    "import numpy as np\n",
    "import re\n",
    "def read_pgm(filename, byteorder='>'):\n",
    "    \"\"\"Return image data from a raw PGM file as numpy array.\n",
    "\n",
    "    Format specification: http://netpbm.sourceforge.net/doc/pgm.html\n",
    "\n",
    "    \"\"\"\n",
    "    with open(filename, 'rb') as f:\n",
    "        buffer = f.read()\n",
    "    try:\n",
    "        header, width, height, maxval = re.search(\n",
    "            b\"(^P5\\s(?:\\s*#.*[\\r\\n])*\"\n",
    "            b\"(\\d+)\\s(?:\\s*#.*[\\r\\n])*\"\n",
    "            b\"(\\d+)\\s(?:\\s*#.*[\\r\\n])*\"\n",
    "            b\"(\\d+)\\s(?:\\s*#.*[\\r\\n]\\s)*)\", buffer).groups()\n",
    "    except AttributeError:\n",
    "        raise ValueError(\"Not a raw PGM file: '%s'\" % filename)\n",
    "    return np.frombuffer(buffer,\n",
    "                            dtype='u1' if int(maxval) < 256 else byteorder+'u2',\n",
    "                            count=int(width)*int(height),\n",
    "                            offset=len(header)\n",
    "                            ).reshape((int(height), int(width)))\n",
    "\n"
   ]
  },
  {
   "cell_type": "code",
   "execution_count": 2,
   "metadata": {},
   "outputs": [
    {
     "data": {
      "text/plain": [
       "(184, 1)"
      ]
     },
     "execution_count": 2,
     "metadata": {},
     "output_type": "execute_result"
    }
   ],
   "source": [
    "filename = \"downgesture_train.list\"\n",
    "with open(filename, 'r') as f:\n",
    "    my_list = [line.rstrip('\\n') for line in f]\n",
    "outputList=[1 if i.find('down')>0 else 0 for i in [x for x in my_list]]\n",
    "outputList=np.array(outputList).reshape(184,1)\n",
    "outputList.shape"
   ]
  },
  {
   "cell_type": "code",
   "execution_count": 3,
   "metadata": {
    "collapsed": true
   },
   "outputs": [],
   "source": [
    "inputList=[]\n",
    "tempL=[]\n",
    "for k in range(len(my_list)):\n",
    "    sampleImage=read_pgm(my_list[k],byteorder='<')\n",
    "    sampleImage.setflags(write=1)\n",
    "    sampleImage=sampleImage.reshape(960,1)\n",
    "    tempL=np.zeros(960)\n",
    "    for i in range(0,960):\n",
    "        tempL[i]=(sampleImage[i]/255.0)\n",
    "    #tempL[0]=1\n",
    "    inputList.append(tempL.T)\n",
    "inputList=np.array(inputList, dtype=np.float64)"
   ]
  },
  {
   "cell_type": "code",
   "execution_count": 4,
   "metadata": {},
   "outputs": [
    {
     "name": "stderr",
     "output_type": "stream",
     "text": [
      "C:\\Users\\aradh\\Anaconda3\\lib\\site-packages\\sklearn\\neural_network\\multilayer_perceptron.py:904: DataConversionWarning: A column-vector y was passed when a 1d array was expected. Please change the shape of y to (n_samples, ), for example using ravel().\n",
      "  y = column_or_1d(y, warn=True)\n"
     ]
    },
    {
     "data": {
      "text/plain": [
       "MLPClassifier(activation='logistic', alpha=0, batch_size='auto', beta_1=0.9,\n",
       "       beta_2=0.999, early_stopping=False, epsilon=1e-08,\n",
       "       hidden_layer_sizes=(100,), learning_rate='constant',\n",
       "       learning_rate_init=0.1, max_iter=1000, momentum=0.9,\n",
       "       nesterovs_momentum=True, power_t=0.5, random_state=None,\n",
       "       shuffle=True, solver='sgd', tol=0.0001, validation_fraction=0.1,\n",
       "       verbose=False, warm_start=False)"
      ]
     },
     "execution_count": 4,
     "metadata": {},
     "output_type": "execute_result"
    }
   ],
   "source": [
    "clf = MLPClassifier(solver='sgd', alpha=0,\n",
    "                  hidden_layer_sizes=(100,), activation='logistic', learning_rate_init=0.1,\n",
    "                  max_iter=1000)\n",
    "\n",
    "clf.fit(inputList,outputList)\n",
    "\n"
   ]
  },
  {
   "cell_type": "code",
   "execution_count": 5,
   "metadata": {
    "collapsed": true
   },
   "outputs": [],
   "source": [
    "filename = \"downgesture_test.list\"\n",
    "with open(filename, 'r') as f:\n",
    "    my_list = [line.rstrip('\\n') for line in f]\n",
    "testList=[1 if i.find('down')>0 else 0 for i in [x for x in my_list]]\n",
    "testList=np.array(testList).reshape(83,1)\n"
   ]
  },
  {
   "cell_type": "code",
   "execution_count": 6,
   "metadata": {
    "collapsed": true
   },
   "outputs": [],
   "source": [
    "inputList=[]\n",
    "tempL=[]\n",
    "for k in range(len(my_list)):\n",
    "    sampleImage=read_pgm(my_list[k],byteorder='<')\n",
    "    sampleImage.setflags(write=1)\n",
    "    sampleImage=sampleImage.reshape(960,1)\n",
    "    tempL=np.zeros(960)\n",
    "    for i in range(1,960):\n",
    "        tempL[i]=(sampleImage[i]/255.0)\n",
    "    \n",
    "    inputList.append(tempL.T)\n",
    "inputList=np.array(inputList)"
   ]
  },
  {
   "cell_type": "code",
   "execution_count": 7,
   "metadata": {},
   "outputs": [
    {
     "name": "stdout",
     "output_type": "stream",
     "text": [
      "[1 1 0 0 0 0 0 0 1 0 0 0 0 0 0 1 1 1 0 0 0 0 0 0 0 0 0 0 0 0 0 1 1 0 0 0 0\n",
      " 0 1 1 1 0 0 0 0 1 1 0 0 0 1 0 0 0 0 0 0 0 0 0 0 1 0 0 0 0 1 0 0 0 0 0 0 0\n",
      " 1 1 0 0 0 0 0 0 0]\n"
     ]
    }
   ],
   "source": [
    "pred_=clf.predict(inputList)\n",
    "print(pred_)"
   ]
  },
  {
   "cell_type": "markdown",
   "metadata": {},
   "source": [
    "### Accuracy"
   ]
  },
  {
   "cell_type": "code",
   "execution_count": 8,
   "metadata": {},
   "outputs": [
    {
     "name": "stdout",
     "output_type": "stream",
     "text": [
      "89.1566265060241\n"
     ]
    }
   ],
   "source": [
    "accuracy = (sum([True if pred_[i] ==testList[i] else False for i in range(len(pred_))]))*100/83\n",
    "print (accuracy)"
   ]
  }
 ],
 "metadata": {
  "kernelspec": {
   "display_name": "Python 3",
   "language": "python",
   "name": "python3"
  },
  "language_info": {
   "codemirror_mode": {
    "name": "ipython",
    "version": 3
   },
   "file_extension": ".py",
   "mimetype": "text/x-python",
   "name": "python",
   "nbconvert_exporter": "python",
   "pygments_lexer": "ipython3",
   "version": "3.6.1"
  }
 },
 "nbformat": 4,
 "nbformat_minor": 2
}
