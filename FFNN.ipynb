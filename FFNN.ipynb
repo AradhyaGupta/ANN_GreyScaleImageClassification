{
 "cells": [
  {
   "cell_type": "code",
   "execution_count": 1,
   "metadata": {
    "collapsed": true
   },
   "outputs": [],
   "source": [
    "import numpy as np\n",
    "import re"
   ]
  },
  {
   "cell_type": "code",
   "execution_count": 2,
   "metadata": {
    "collapsed": true
   },
   "outputs": [],
   "source": [
    "def read_pgm(filename, byteorder='>'):\n",
    "    \"\"\"Return image data from a raw PGM file as numpy array.\n",
    "\n",
    "    Format specification: http://netpbm.sourceforge.net/doc/pgm.html\n",
    "\n",
    "    \"\"\"\n",
    "    with open(filename, 'rb') as f:\n",
    "        buffer = f.read()\n",
    "    try:\n",
    "        header, width, height, maxval = re.search(\n",
    "            b\"(^P5\\s(?:\\s*#.*[\\r\\n])*\"\n",
    "            b\"(\\d+)\\s(?:\\s*#.*[\\r\\n])*\"\n",
    "            b\"(\\d+)\\s(?:\\s*#.*[\\r\\n])*\"\n",
    "            b\"(\\d+)\\s(?:\\s*#.*[\\r\\n]\\s)*)\", buffer).groups()\n",
    "    except AttributeError:\n",
    "        raise ValueError(\"Not a raw PGM file: '%s'\" % filename)\n",
    "    return np.frombuffer(buffer,\n",
    "                            dtype='u1' if int(maxval) < 256 else byteorder+'u2',\n",
    "                            count=int(width)*int(height),\n",
    "                            offset=len(header)\n",
    "                            ).reshape((int(height), int(width)))\n"
   ]
  },
  {
   "cell_type": "code",
   "execution_count": 3,
   "metadata": {
    "collapsed": true
   },
   "outputs": [],
   "source": [
    "def sigmoid(z):\n",
    "    #z=np.clip(z,-5,5)\n",
    "    a = 1/(1+np.exp(-z))\n",
    "    return a"
   ]
  },
  {
   "cell_type": "code",
   "execution_count": 4,
   "metadata": {
    "collapsed": true
   },
   "outputs": [],
   "source": [
    "def sigmoidDerivative(z):\n",
    "    #z=np.clip(z,-5,5)\n",
    "    a = np.exp(-z)/((1+np.exp(-z))**2)\n",
    "    return a"
   ]
  },
  {
   "cell_type": "code",
   "execution_count": 5,
   "metadata": {
    "collapsed": true
   },
   "outputs": [],
   "source": [
    "def forward (data, W1,W2):\n",
    "    Z2 = np.dot(data,W1)\n",
    "    A2 = sigmoid(Z2)\n",
    "    Z3 = np.dot(A2, W2)\n",
    "    yPrime = sigmoid(Z3)\n",
    "    return np.array(A2), np.array(yPrime)"
   ]
  },
  {
   "cell_type": "code",
   "execution_count": 6,
   "metadata": {
    "collapsed": true
   },
   "outputs": [],
   "source": [
    "def backPropagation(data, W1, W2, output_label, yPrime,A2, learning_rate):\n",
    "    delta3 = np.multiply(-(output_label-yPrime),sigmoidDerivative(yPrime))\n",
    "    dJdW2 = np.dot(A2.T, delta3)\n",
    "    delta2 = np.dot(delta3, W2.T)*sigmoidDerivative(A2)\n",
    "    dJdW1 = np.dot(data.T, delta2)\n",
    "    W2 = W2 - learning_rate*dJdW2\n",
    "    W1 = W1 - learning_rate*dJdW1\n",
    "    return W1, W2"
   ]
  },
  {
   "cell_type": "code",
   "execution_count": 7,
   "metadata": {
    "collapsed": true
   },
   "outputs": [],
   "source": [
    "def accuracy(inputList,outputList):\n",
    "    count = 0\n",
    "    for i in range(0,len(inputList)):\n",
    "        if inputList[i] == outputList[i]:\n",
    "            count += 1\n",
    "    acc = (count/len(inputList))*100\n",
    "    return acc"
   ]
  },
  {
   "cell_type": "code",
   "execution_count": 8,
   "metadata": {
    "collapsed": true
   },
   "outputs": [],
   "source": [
    "def read_image(the_filename):\n",
    "    inputList = []\n",
    "    with open(the_filename, 'r') as f:\n",
    "        my_list = [line.rstrip('\\n') for line in f]\n",
    "        output_label = []\n",
    "        for i in range(0, len(my_list)):\n",
    "            if \"down\" in my_list[i]:\n",
    "                output_label.append(1)\n",
    "            else:\n",
    "                output_label.append(0)\n",
    "            image = read_pgm(my_list[i], byteorder='<')\n",
    "            image = image.reshape(1,960)\n",
    "            tempList = []\n",
    "            for j in range(0,len(image[0])):\n",
    "                tempList.append(image[0][j]/255.0)\n",
    "            tempList = np.array(tempList).reshape(1,960)\n",
    "            inputList[i:] = tempList\n",
    "    return np.array(inputList), output_label"
   ]
  },
  {
   "cell_type": "code",
   "execution_count": 9,
   "metadata": {
    "collapsed": true
   },
   "outputs": [],
   "source": [
    "def initilizeWeight():\n",
    "    W1 = np.array(np.random.uniform(low=-0.09, high= 0.09, size=(960,100)))\n",
    "    W2 = np.array(np.random.uniform(low=-0.09, high= 0.09, size=(100,1)))\n",
    "    return W1, W2"
   ]
  },
  {
   "cell_type": "code",
   "execution_count": 10,
   "metadata": {
    "collapsed": true
   },
   "outputs": [],
   "source": [
    "def convertOutputLabel (output_Result):\n",
    "    return np.round(output_Result)"
   ]
  },
  {
   "cell_type": "code",
   "execution_count": 11,
   "metadata": {
    "scrolled": false
   },
   "outputs": [
    {
     "name": "stdout",
     "output_type": "stream",
     "text": [
      "Training Accurary 91.84782608695652\n"
     ]
    }
   ],
   "source": [
    "train_fileName = \"downgesture_train.list\"\n",
    "\n",
    "\n",
    "inputList, output_label = read_image(train_fileName)\n",
    "W1, W2 = initilizeWeight()\n",
    "epoch = 1000\n",
    "learning_rate = 0.01\n",
    "error = []\n",
    "output_label = np.array(output_label).reshape(184,1)\n",
    "cost = []\n",
    "for i in range(epoch):\n",
    "    A2,yPrime = forward(inputList, W1,W2)\n",
    "    W1, W2 = backPropagation(inputList, W1, W2, output_label, yPrime,A2, learning_rate)\n",
    "    output_Result = np.array(yPrime)\n",
    "    cost.append(sum(np.subtract(output_label,yPrime))**2)\n",
    "\n",
    "output_Result = convertOutputLabel(output_Result)\n",
    "#print(output_Result)\n",
    "print(\"Training Accurary\", accuracy(output_label, output_Result))\n"
   ]
  },
  {
   "cell_type": "code",
   "execution_count": 12,
   "metadata": {},
   "outputs": [
    {
     "data": {
      "image/png": "[encoded data removed]",
      "text/plain": [
       "<matplotlib.figure.Figure at 0x262a1e9f3c8>"
      ]
     },
     "metadata": {},
     "output_type": "display_data"
    }
   ],
   "source": [
    "import matplotlib.pyplot as plt\n",
    "\n",
    "plt.plot(cost)\n",
    "plt.show()\n",
    "#print(cost)"
   ]
  },
  {
   "cell_type": "code",
   "execution_count": 13,
   "metadata": {},
   "outputs": [
    {
     "name": "stdout",
     "output_type": "stream",
     "text": [
      "Test Accurary 91.56626506024097\n"
     ]
    }
   ],
   "source": [
    "test_fileName = \"downgesture_test.list\"\n",
    "\n",
    "test_dataset, output_testLabel = read_image(test_fileName)\n",
    "\n",
    "output_testLabel = np.array(output_testLabel).reshape(83,1)\n",
    "A2, output_prime = forward(test_dataset, W1,W2)\n",
    "output_prime = convertOutputLabel(output_prime)\n",
    "\n",
    "print(\"Test Accurary\", accuracy(output_testLabel, output_prime))"
   ]
  },
  {
   "cell_type": "code",
   "execution_count": 14,
   "metadata": {},
   "outputs": [
    {
     "name": "stdout",
     "output_type": "stream",
     "text": [
      "Test Data Output from Neural Network\n"
     ]
    },
    {
     "data": {
      "text/plain": [
       "array([[ 1.,  1.,  0.,  0.,  0.,  0.,  1.,  0.,  1.,  1.,  0.,  0.,  0.,\n",
       "         0.,  0.,  0.,  1.,  1.,  0.,  0.,  0.,  0.,  0.,  0.,  0.,  0.,\n",
       "         0.,  0.,  0.,  0.,  0.,  0.,  1.,  0.,  0.,  0.,  0.,  0.,  1.,\n",
       "         1.,  1.,  0.,  0.,  0.,  0.,  1.,  1.,  0.,  0.,  0.,  1.,  0.,\n",
       "         0.,  0.,  0.,  0.,  0.,  0.,  0.,  0.,  0.,  1.,  0.,  0.,  0.,\n",
       "         0.,  1.,  0.,  0.,  0.,  0.,  0.,  0.,  0.,  1.,  1.,  0.,  0.,\n",
       "         0.,  0.,  0.,  0.,  0.]])"
      ]
     },
     "execution_count": 14,
     "metadata": {},
     "output_type": "execute_result"
    }
   ],
   "source": [
    "print(\"Test Data Output from Neural Network\")\n",
    "output_prime.reshape(1,83)"
   ]
  }
 ],
 "metadata": {
  "kernelspec": {
   "display_name": "Python 3",
   "language": "python",
   "name": "python3"
  },
  "language_info": {
   "codemirror_mode": {
    "name": "ipython",
    "version": 3
   },
   "file_extension": ".py",
   "mimetype": "text/x-python",
   "name": "python",
   "nbconvert_exporter": "python",
   "pygments_lexer": "ipython3",
   "version": "3.6.1"
  }
 },
 "nbformat": 4,
 "nbformat_minor": 2
}
